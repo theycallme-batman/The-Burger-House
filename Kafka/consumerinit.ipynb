{
 "cells": [
  {
   "cell_type": "code",
   "execution_count": 1,
   "metadata": {},
   "outputs": [],
   "source": [
    "import pandas as pd\n",
    "import time\n",
    "import threading\n",
    "from kafkaconsumer import Kafka_Consumer"
   ]
  },
  {
   "cell_type": "code",
   "execution_count": 3,
   "metadata": {},
   "outputs": [],
   "source": [
    "def get_env_params():\n",
    "    return pd.read_csv('../env_params/env_params.csv',index_col=0, header=None).squeeze().to_dict()"
   ]
  },
  {
   "cell_type": "code",
   "execution_count": null,
   "metadata": {},
   "outputs": [],
   "source": [
    "if __name__ == \"__main__\":\n",
    "    \n",
    "    params = get_env_params()\n",
    "\n",
    "    topics = params['topics'].split('|')\n",
    "\n",
    "\n",
    "    kafkaconsumers = []\n",
    "    for iter,topic in enumerate(topics):\n",
    "        #Create objects of kafka consumer\n",
    "        kafkaconsumers.append(Kafka_Consumer(topic,[params['bootstrapservers']],str(iter)))\n",
    "  \n",
    "    threads = []\n",
    "    for consumer in kafkaconsumers:\n",
    "        # Create threads for each consumer function\n",
    "        thread = threading.Thread(target=consumer.consume_and_upload\n",
    "                               ,args=(params['adls_account_name'], params['adls_sas_token']\n",
    "                                      ,int(params['kafkabatchsize']),params['adls_container']))\n",
    "        threads.append(thread)\n",
    "        thread.start()\n",
    "\n",
    "    try:\n",
    "        while True:\n",
    "            time.sleep(0.1)  # Main thread does something here, could be anything\n",
    "    except KeyboardInterrupt:\n",
    "        print(\"\\nKeyboard interruption detected. Stopping all threads...\")\n",
    "    finally:\n",
    "        # Wait for all threads to complete\n",
    "\n",
    "        for consumer in kafkaconsumers:\n",
    "            consumer.consumer.close()\n",
    "        \n",
    "        for thread in threads:\n",
    "            thread.join()\n",
    "        print(\"All threads have been stopped.\")"
   ]
  }
 ],
 "metadata": {
  "kernelspec": {
   "display_name": "Python 3",
   "language": "python",
   "name": "python3"
  },
  "language_info": {
   "codemirror_mode": {
    "name": "ipython",
    "version": 3
   },
   "file_extension": ".py",
   "mimetype": "text/x-python",
   "name": "python",
   "nbconvert_exporter": "python",
   "pygments_lexer": "ipython3",
   "version": "3.8.3"
  }
 },
 "nbformat": 4,
 "nbformat_minor": 4
}
