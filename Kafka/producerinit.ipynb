{
 "cells": [
  {
   "cell_type": "code",
   "execution_count": 1,
   "metadata": {},
   "outputs": [],
   "source": [
    "from kafkaproducer import Kafka_Producer\n",
    "import pandas as pd\n",
    "import threading\n",
    "import time\n",
    "import random"
   ]
  },
  {
   "cell_type": "code",
   "execution_count": null,
   "metadata": {},
   "outputs": [],
   "source": [
    "stop_flag = False #Need the producer to produce the records till stop_flag = False, for better control over the production"
   ]
  },
  {
   "cell_type": "code",
   "execution_count": 3,
   "metadata": {},
   "outputs": [],
   "source": [
    "def get_env_params():\n",
    "    return pd.read_csv('../env_params/env_params.csv',index_col=0, header=None).squeeze().to_dict()"
   ]
  },
  {
   "cell_type": "code",
   "execution_count": 4,
   "metadata": {},
   "outputs": [],
   "source": [
    "def runmain(producer, num_orders,params):\n",
    "    if num_orders == 0:\n",
    "         while not stop_flag:\n",
    "            num_orders = random.randint(1,10)\n",
    "            producer.generateRecords(num_orders)\n",
    "            producer.connect_as_producer([params['bootstrapservers']])\n",
    "\n",
    "            #Sleep used to give time between sending each record\n",
    "            time.sleep(random.randint(100,200))\n",
    "            producer.send_records_orders()\n",
    "            producer.send_records_items()\n",
    "\n",
    "    else:\n",
    "        producer.generateRecords(num_orders)\n",
    "        producer.connect_as_producer([params['bootstrapservers']])\n",
    "        producer.send_records_orders()\n",
    "        producer.send_records_items()     "
   ]
  },
  {
   "cell_type": "code",
   "execution_count": 5,
   "metadata": {},
   "outputs": [
    {
     "name": "stdout",
     "output_type": "stream",
     "text": [
      "\n",
      "Keyboard interruption detected. Stopping all threads...\n"
     ]
    }
   ],
   "source": [
    "if __name__ == \"__main__\":\n",
    "    \n",
    "    countries = [\"India\",\"USA\",\"UK\"]\n",
    "    num_orders = 0\n",
    "    # Input parameters\n",
    "    choice = input(\"Do you want it to run on its own or manually? (Enter 'M' for Manual or 'A' for Automation): \")\n",
    "    if(choice.upper() == 'M'):\n",
    "        countries = input(\"Enter the country to generate orders for (e.g., USA, UK, India): \").split(',')\n",
    "        num_orders = int(input(\"Enter the number of fake orders to generate: \"))\n",
    "\n",
    "    params = get_env_params()\n",
    "\n",
    "    #Create object of kafka producer to start producing\n",
    "    kafkaobjects = []\n",
    "    for country in countries:\n",
    "        kafkaobjects.append(Kafka_Producer(country))\n",
    "    \n",
    "    \n",
    "    # Create threads for each producer function\n",
    "    threads = []\n",
    "    for obj in kafkaobjects:\n",
    "        thread = threading.Thread(target=runmain, args=(obj,num_orders,params))\n",
    "        threads.append(thread)\n",
    "        thread.start()\n",
    "\n",
    "    try:\n",
    "        while not stop_flag:\n",
    "            time.sleep(0.1)  # Main thread does something here, could be anything\n",
    "    except KeyboardInterrupt:\n",
    "        stop_flag = True\n",
    "        print(\"\\nKeyboard interruption detected. Stopping all threads...\")\n",
    "\n",
    "    finally:\n",
    "        # Wait for all threads to complete\n",
    "        for thread in threads:\n",
    "            thread.join()\n",
    "        print(\"All threads have been stopped.\")\n",
    "    "
   ]
  }
 ],
 "metadata": {
  "kernelspec": {
   "display_name": "Python 3",
   "language": "python",
   "name": "python3"
  },
  "language_info": {
   "codemirror_mode": {
    "name": "ipython",
    "version": 3
   },
   "file_extension": ".py",
   "mimetype": "text/x-python",
   "name": "python",
   "nbconvert_exporter": "python",
   "pygments_lexer": "ipython3",
   "version": "3.8.3"
  }
 },
 "nbformat": 4,
 "nbformat_minor": 4
}
