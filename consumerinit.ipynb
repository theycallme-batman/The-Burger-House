{
 "cells": [
  {
   "cell_type": "code",
   "execution_count": 1,
   "metadata": {},
   "outputs": [],
   "source": [
    "import pandas as pd\n",
    "import time\n",
    "import threading\n",
    "from kafkaconsumer import Kafka_Consumer"
   ]
  },
  {
   "cell_type": "code",
   "execution_count": 2,
   "metadata": {},
   "outputs": [],
   "source": [
    "stop_flag = False"
   ]
  },
  {
   "cell_type": "code",
   "execution_count": 3,
   "metadata": {},
   "outputs": [],
   "source": [
    "def get_env_params():\n",
    "    return pd.read_csv('./env_params/env_params.csv',index_col=0, header=None).squeeze().to_dict()"
   ]
  },
  {
   "cell_type": "code",
   "execution_count": 4,
   "metadata": {},
   "outputs": [
    {
     "name": "stdout",
     "output_type": "stream",
     "text": [
      "current_batch_size 0 Received message: [ConsumerRecord(topic='orderitems', partition=0, offset=1793, timestamp=1726067097900, timestamp_type=0, key=None, value='{\"OrderItemID\": \"bb8bb9ae-57e0-41c6-8494-305d7194a9f1\", \"OrderID\": \"4114fa10-55b3-41ac-8349-20a7fcfa3a3b\", \"ItemID\": 6, \"ItemName\": \"Fish Burger\", \"Quantity\": 2, \"UnitPrice\": 80, \"TotalPrice\": 160}', headers=[], checksum=None, serialized_key_size=-1, serialized_value_size=219, serialized_header_size=-1), ConsumerRecord(topic='orderitems', partition=0, offset=1794, timestamp=1726067102329, timestamp_type=0, key=None, value='{\"OrderItemID\": \"85aa157b-b409-4558-919b-756bf631dae1\", \"OrderID\": \"e1cb6691-a030-4c1d-8629-4f4da2cb0fef\", \"ItemID\": 3, \"ItemName\": \"Mushroom Burger\", \"Quantity\": 1, \"UnitPrice\": 60, \"TotalPrice\": 60}', headers=[], checksum=None, serialized_key_size=-1, serialized_value_size=222, serialized_header_size=-1), ConsumerRecord(topic='orderitems', partition=0, offset=1795, timestamp=1726067102537, timestamp_type=0, key=None, value='{\"OrderItemID\": \"c68b1f6e-0d5e-4bd9-8d83-20312c2747c0\", \"OrderID\": \"ff52f3ab-afe3-47ea-ade8-79c21541b74a\", \"ItemID\": 5, \"ItemName\": \"Chicken Burger\", \"Quantity\": 1, \"UnitPrice\": 85, \"TotalPrice\": 85}', headers=[], checksum=None, serialized_key_size=-1, serialized_value_size=221, serialized_header_size=-1), ConsumerRecord(topic='orderitems', partition=0, offset=1796, timestamp=1726067102903, timestamp_type=0, key=None, value='{\"OrderItemID\": \"d0cd8cc6-3e14-4e5f-a35c-56b352403e1d\", \"OrderID\": \"4114fa10-55b3-41ac-8349-20a7fcfa3a3b\", \"ItemID\": 2, \"ItemName\": \"Cheese Burger\", \"Quantity\": 1, \"UnitPrice\": 55, \"TotalPrice\": 55}', headers=[], checksum=None, serialized_key_size=-1, serialized_value_size=220, serialized_header_size=-1), ConsumerRecord(topic='orderitems', partition=0, offset=1797, timestamp=1726067107345, timestamp_type=0, key=None, value='{\"OrderItemID\": \"4cab56c3-9c51-4c71-a071-986835f295fa\", \"OrderID\": \"e1cb6691-a030-4c1d-8629-4f4da2cb0fef\", \"ItemID\": 14, \"ItemName\": \"Latte\", \"Quantity\": 2, \"UnitPrice\": 55, \"TotalPrice\": 110}', headers=[], checksum=None, serialized_key_size=-1, serialized_value_size=214, serialized_header_size=-1), ConsumerRecord(topic='orderitems', partition=0, offset=1798, timestamp=1726067107549, timestamp_type=0, key=None, value='{\"OrderItemID\": \"dcade3bf-f755-4463-9c34-0e9440400fe8\", \"OrderID\": \"ff52f3ab-afe3-47ea-ade8-79c21541b74a\", \"ItemID\": 4, \"ItemName\": \"Paneer Burger\", \"Quantity\": 1, \"UnitPrice\": 70, \"TotalPrice\": 70}', headers=[], checksum=None, serialized_key_size=-1, serialized_value_size=220, serialized_header_size=-1), ConsumerRecord(topic='orderitems', partition=0, offset=1799, timestamp=1726067107909, timestamp_type=0, key=None, value='{\"OrderItemID\": \"b7d52dce-f2aa-4af0-a8eb-bae25bc1c77a\", \"OrderID\": \"fa29fad9-5cae-4234-bb10-d4065a55805d\", \"ItemID\": 9, \"ItemName\": \"Coke\", \"Quantity\": 2, \"UnitPrice\": 60, \"TotalPrice\": 120}', headers=[], checksum=None, serialized_key_size=-1, serialized_value_size=212, serialized_header_size=-1), ConsumerRecord(topic='orderitems', partition=0, offset=1800, timestamp=1726067112349, timestamp_type=0, key=None, value='{\"OrderItemID\": \"66e0a0aa-ac3d-4478-8b3d-15c68dcdfa95\", \"OrderID\": \"e1cb6691-a030-4c1d-8629-4f4da2cb0fef\", \"ItemID\": 14, \"ItemName\": \"Latte\", \"Quantity\": 3, \"UnitPrice\": 55, \"TotalPrice\": 165}', headers=[], checksum=None, serialized_key_size=-1, serialized_value_size=214, serialized_header_size=-1), ConsumerRecord(topic='orderitems', partition=0, offset=1801, timestamp=1726067112913, timestamp_type=0, key=None, value='{\"OrderItemID\": \"64d06b24-0475-45fb-b38b-4372600cea03\", \"OrderID\": \"fa29fad9-5cae-4234-bb10-d4065a55805d\", \"ItemID\": 2, \"ItemName\": \"Cheese Burger\", \"Quantity\": 2, \"UnitPrice\": 55, \"TotalPrice\": 110}', headers=[], checksum=None, serialized_key_size=-1, serialized_value_size=221, serialized_header_size=-1), ConsumerRecord(topic='orderitems', partition=0, offset=1802, timestamp=1726067117354, timestamp_type=0, key=None, value='{\"OrderItemID\": \"0cdff20e-c1e7-4ade-858e-8dfb98468947\", \"OrderID\": \"e1cb6691-a030-4c1d-8629-4f4da2cb0fef\", \"ItemID\": 10, \"ItemName\": \"Sprite\", \"Quantity\": 1, \"UnitPrice\": 60, \"TotalPrice\": 60}', headers=[], checksum=None, serialized_key_size=-1, serialized_value_size=214, serialized_header_size=-1)]\n",
      "current_batch_size 0 Received message: [ConsumerRecord(topic='orders', partition=0, offset=669, timestamp=1726067117715, timestamp_type=0, key=None, value='{\"OrderID\": \"6246ce0a-0e99-40ec-9c27-3f31551a9eb6\", \"OrderDate\": \"2024-09-11 20:38:17\", \"StoreID\": 23, \"GlobalID\": \"Ind-23\", \"Country\": \"India\", \"PaymentMethod\": \"Credit Card\", \"TotalAmount\": 390}', headers=[], checksum=None, serialized_key_size=-1, serialized_value_size=222, serialized_header_size=-1), ConsumerRecord(topic='orders', partition=0, offset=670, timestamp=1726067122736, timestamp_type=0, key=None, value='{\"OrderID\": \"fc408b2b-133a-4a82-91e1-cdaaa0766bc3\", \"OrderDate\": \"2024-09-11 20:39:17\", \"StoreID\": 20, \"GlobalID\": \"Ind-20\", \"Country\": \"India\", \"PaymentMethod\": \"Mobile Payment\", \"TotalAmount\": 120}', headers=[], checksum=None, serialized_key_size=-1, serialized_value_size=225, serialized_header_size=-1), ConsumerRecord(topic='orders', partition=0, offset=671, timestamp=1726067127741, timestamp_type=0, key=None, value='{\"OrderID\": \"9f51a24a-d4c0-4dad-b2e7-4f09cef22861\", \"OrderDate\": \"2024-09-11 20:42:17\", \"StoreID\": 39, \"GlobalID\": \"Ind-39\", \"Country\": \"India\", \"PaymentMethod\": \"Cash\", \"TotalAmount\": 475}', headers=[], checksum=None, serialized_key_size=-1, serialized_value_size=215, serialized_header_size=-1), ConsumerRecord(topic='orders', partition=0, offset=672, timestamp=1726067132747, timestamp_type=0, key=None, value='{\"OrderID\": \"1d0f64d2-3bba-405b-b77b-f1ce58fb4205\", \"OrderDate\": \"2024-09-11 20:40:17\", \"StoreID\": 40, \"GlobalID\": \"Ind-40\", \"Country\": \"India\", \"PaymentMethod\": \"Credit Card\", \"TotalAmount\": 230}', headers=[], checksum=None, serialized_key_size=-1, serialized_value_size=222, serialized_header_size=-1), ConsumerRecord(topic='orders', partition=0, offset=673, timestamp=1726067137750, timestamp_type=0, key=None, value='{\"OrderID\": \"033f692f-ad9d-41e7-8685-e760530d9dac\", \"OrderDate\": \"2024-09-11 20:39:17\", \"StoreID\": 1, \"GlobalID\": \"Ind-1\", \"Country\": \"India\", \"PaymentMethod\": \"Cash\", \"TotalAmount\": 515}', headers=[], checksum=None, serialized_key_size=-1, serialized_value_size=213, serialized_header_size=-1)]\n",
      "current_batch_size 0 Received message: [ConsumerRecord(topic='orderitems', partition=0, offset=1803, timestamp=1726067117920, timestamp_type=0, key=None, value='{\"OrderItemID\": \"89d78ab3-94be-4e35-a0e3-8dd6f7003585\", \"OrderID\": \"fa29fad9-5cae-4234-bb10-d4065a55805d\", \"ItemID\": 8, \"ItemName\": \"Cheesy Fries\", \"Quantity\": 1, \"UnitPrice\": 55, \"TotalPrice\": 55}', headers=[], checksum=None, serialized_key_size=-1, serialized_value_size=219, serialized_header_size=-1), ConsumerRecord(topic='orderitems', partition=0, offset=1804, timestamp=1726067122364, timestamp_type=0, key=None, value='{\"OrderItemID\": \"8e83e494-438f-4430-a485-1962ecf75dbc\", \"OrderID\": \"3f544f83-911d-49fc-9216-2634754151b0\", \"ItemID\": 12, \"ItemName\": \"Coffee\", \"Quantity\": 1, \"UnitPrice\": 50, \"TotalPrice\": 50}', headers=[], checksum=None, serialized_key_size=-1, serialized_value_size=214, serialized_header_size=-1), ConsumerRecord(topic='orderitems', partition=0, offset=1805, timestamp=1726067122928, timestamp_type=0, key=None, value='{\"OrderItemID\": \"e25cf3af-dac7-4c04-8b8b-435c05a273a1\", \"OrderID\": \"9a5413dd-cb34-4f23-a687-1fab4ee6436f\", \"ItemID\": 3, \"ItemName\": \"Mushroom Burger\", \"Quantity\": 2, \"UnitPrice\": 60, \"TotalPrice\": 120}', headers=[], checksum=None, serialized_key_size=-1, serialized_value_size=223, serialized_header_size=-1), ConsumerRecord(topic='orderitems', partition=0, offset=1806, timestamp=1726067127366, timestamp_type=0, key=None, value='{\"OrderItemID\": \"1ef8021c-bce9-4f07-8ebb-7bc5a9988bcc\", \"OrderID\": \"3f544f83-911d-49fc-9216-2634754151b0\", \"ItemID\": 4, \"ItemName\": \"Paneer Burger\", \"Quantity\": 1, \"UnitPrice\": 70, \"TotalPrice\": 70}', headers=[], checksum=None, serialized_key_size=-1, serialized_value_size=220, serialized_header_size=-1), ConsumerRecord(topic='orderitems', partition=0, offset=1807, timestamp=1726067127945, timestamp_type=0, key=None, value='{\"OrderItemID\": \"6f1f7a15-0631-491b-9073-039f1e6ad906\", \"OrderID\": \"9a5413dd-cb34-4f23-a687-1fab4ee6436f\", \"ItemID\": 10, \"ItemName\": \"Sprite\", \"Quantity\": 2, \"UnitPrice\": 60, \"TotalPrice\": 120}', headers=[], checksum=None, serialized_key_size=-1, serialized_value_size=215, serialized_header_size=-1), ConsumerRecord(topic='orderitems', partition=0, offset=1808, timestamp=1726067132378, timestamp_type=0, key=None, value='{\"OrderItemID\": \"b4652600-92c4-4c99-9062-5b3bd2385cf5\", \"OrderID\": \"3f544f83-911d-49fc-9216-2634754151b0\", \"ItemID\": 7, \"ItemName\": \"Fries\", \"Quantity\": 2, \"UnitPrice\": 45, \"TotalPrice\": 90}', headers=[], checksum=None, serialized_key_size=-1, serialized_value_size=212, serialized_header_size=-1), ConsumerRecord(topic='orderitems', partition=0, offset=1809, timestamp=1726067132959, timestamp_type=0, key=None, value='{\"OrderItemID\": \"20025f82-d5d0-412d-97bc-d32324b44126\", \"OrderID\": \"9a5413dd-cb34-4f23-a687-1fab4ee6436f\", \"ItemID\": 8, \"ItemName\": \"Cheesy Fries\", \"Quantity\": 2, \"UnitPrice\": 55, \"TotalPrice\": 110}', headers=[], checksum=None, serialized_key_size=-1, serialized_value_size=220, serialized_header_size=-1), ConsumerRecord(topic='orderitems', partition=0, offset=1810, timestamp=1726067137391, timestamp_type=0, key=None, value='{\"OrderItemID\": \"b235872f-f682-43bd-8174-dc65f9646b27\", \"OrderID\": \"3f544f83-911d-49fc-9216-2634754151b0\", \"ItemID\": 1, \"ItemName\": \"Burger\", \"Quantity\": 3, \"UnitPrice\": 50, \"TotalPrice\": 150}', headers=[], checksum=None, serialized_key_size=-1, serialized_value_size=214, serialized_header_size=-1), ConsumerRecord(topic='orderitems', partition=0, offset=1811, timestamp=1726067137970, timestamp_type=0, key=None, value='{\"OrderItemID\": \"8e6b81a3-e9ed-459c-a80a-b2000cfcbe46\", \"OrderID\": \"9a5413dd-cb34-4f23-a687-1fab4ee6436f\", \"ItemID\": 12, \"ItemName\": \"Coffee\", \"Quantity\": 3, \"UnitPrice\": 50, \"TotalPrice\": 150}', headers=[], checksum=None, serialized_key_size=-1, serialized_value_size=215, serialized_header_size=-1), ConsumerRecord(topic='orderitems', partition=0, offset=1812, timestamp=1726067142408, timestamp_type=0, key=None, value='{\"OrderItemID\": \"725964c4-73c4-4ceb-8467-81798383818f\", \"OrderID\": \"3f544f83-911d-49fc-9216-2634754151b0\", \"ItemID\": 7, \"ItemName\": \"Fries\", \"Quantity\": 3, \"UnitPrice\": 45, \"TotalPrice\": 135}', headers=[], checksum=None, serialized_key_size=-1, serialized_value_size=213, serialized_header_size=-1)]\n",
      "current_batch_size 0 Received message: [ConsumerRecord(topic='orderitems', partition=0, offset=1813, timestamp=1726067142756, timestamp_type=0, key=None, value='{\"OrderItemID\": \"f89ed0ff-2c8c-43fc-9759-b929ab9873c4\", \"OrderID\": \"6246ce0a-0e99-40ec-9c27-3f31551a9eb6\", \"ItemID\": 10, \"ItemName\": \"Sprite\", \"Quantity\": 2, \"UnitPrice\": 60, \"TotalPrice\": 120}', headers=[], checksum=None, serialized_key_size=-1, serialized_value_size=215, serialized_header_size=-1), ConsumerRecord(topic='orderitems', partition=0, offset=1814, timestamp=1726067142979, timestamp_type=0, key=None, value='{\"OrderItemID\": \"c0fa5031-326e-4983-b6bd-16ac4ab50701\", \"OrderID\": \"9a5413dd-cb34-4f23-a687-1fab4ee6436f\", \"ItemID\": 10, \"ItemName\": \"Sprite\", \"Quantity\": 3, \"UnitPrice\": 60, \"TotalPrice\": 180}', headers=[], checksum=None, serialized_key_size=-1, serialized_value_size=215, serialized_header_size=-1), ConsumerRecord(topic='orderitems', partition=0, offset=1815, timestamp=1726067147411, timestamp_type=0, key=None, value='{\"OrderItemID\": \"13843901-b020-48d4-929b-eb354fa09d36\", \"OrderID\": \"d0f4903a-9650-45ca-aa89-44b01a6ec0e3\", \"ItemID\": 12, \"ItemName\": \"Coffee\", \"Quantity\": 3, \"UnitPrice\": 50, \"TotalPrice\": 150}', headers=[], checksum=None, serialized_key_size=-1, serialized_value_size=215, serialized_header_size=-1), ConsumerRecord(topic='orderitems', partition=0, offset=1816, timestamp=1726067147761, timestamp_type=0, key=None, value='{\"OrderItemID\": \"0b5846c8-79e3-4aa0-a223-8f5548e422fd\", \"OrderID\": \"6246ce0a-0e99-40ec-9c27-3f31551a9eb6\", \"ItemID\": 11, \"ItemName\": \"Ice Tea\", \"Quantity\": 2, \"UnitPrice\": 50, \"TotalPrice\": 100}', headers=[], checksum=None, serialized_key_size=-1, serialized_value_size=216, serialized_header_size=-1), ConsumerRecord(topic='orderitems', partition=0, offset=1817, timestamp=1726067147994, timestamp_type=0, key=None, value='{\"OrderItemID\": \"39175ae8-c38e-4b8c-9536-2c1f90b359d9\", \"OrderID\": \"ff0a837a-3e0f-4488-9c88-c320a7b0a957\", \"ItemID\": 11, \"ItemName\": \"Ice Tea\", \"Quantity\": 1, \"UnitPrice\": 50, \"TotalPrice\": 50}', headers=[], checksum=None, serialized_key_size=-1, serialized_value_size=215, serialized_header_size=-1), ConsumerRecord(topic='orderitems', partition=0, offset=1818, timestamp=1726067152432, timestamp_type=0, key=None, value='{\"OrderItemID\": \"1bc238a3-cf34-4b3d-81bf-23f5be3bcc64\", \"OrderID\": \"57446b2d-ddb3-48ee-af8b-6cbeb759f3ec\", \"ItemID\": 2, \"ItemName\": \"Cheese Burger\", \"Quantity\": 2, \"UnitPrice\": 55, \"TotalPrice\": 110}', headers=[], checksum=None, serialized_key_size=-1, serialized_value_size=221, serialized_header_size=-1), ConsumerRecord(topic='orderitems', partition=0, offset=1819, timestamp=1726067152772, timestamp_type=0, key=None, value='{\"OrderItemID\": \"51b8c4b5-4d86-4ddb-8119-08408a6464fd\", \"OrderID\": \"6246ce0a-0e99-40ec-9c27-3f31551a9eb6\", \"ItemID\": 14, \"ItemName\": \"Latte\", \"Quantity\": 2, \"UnitPrice\": 55, \"TotalPrice\": 110}', headers=[], checksum=None, serialized_key_size=-1, serialized_value_size=214, serialized_header_size=-1), ConsumerRecord(topic='orderitems', partition=0, offset=1820, timestamp=1726067152997, timestamp_type=0, key=None, value='{\"OrderItemID\": \"a4edeefd-5140-494b-aed4-e645aaed8b53\", \"OrderID\": \"ff0a837a-3e0f-4488-9c88-c320a7b0a957\", \"ItemID\": 9, \"ItemName\": \"Coke\", \"Quantity\": 2, \"UnitPrice\": 60, \"TotalPrice\": 120}', headers=[], checksum=None, serialized_key_size=-1, serialized_value_size=212, serialized_header_size=-1), ConsumerRecord(topic='orderitems', partition=0, offset=1821, timestamp=1726067157438, timestamp_type=0, key=None, value='{\"OrderItemID\": \"b7068b26-fef1-4ca9-b719-8e17d7523baf\", \"OrderID\": \"57446b2d-ddb3-48ee-af8b-6cbeb759f3ec\", \"ItemID\": 4, \"ItemName\": \"Paneer Burger\", \"Quantity\": 3, \"UnitPrice\": 70, \"TotalPrice\": 210}', headers=[], checksum=None, serialized_key_size=-1, serialized_value_size=221, serialized_header_size=-1), ConsumerRecord(topic='orderitems', partition=0, offset=1822, timestamp=1726067157778, timestamp_type=0, key=None, value='{\"OrderItemID\": \"9ecbcf97-c201-4f5a-8527-6f0fecbdaec9\", \"OrderID\": \"6246ce0a-0e99-40ec-9c27-3f31551a9eb6\", \"ItemID\": 3, \"ItemName\": \"Mushroom Burger\", \"Quantity\": 1, \"UnitPrice\": 60, \"TotalPrice\": 60}', headers=[], checksum=None, serialized_key_size=-1, serialized_value_size=222, serialized_header_size=-1)]\n",
      "current_batch_size 0 Received message: [ConsumerRecord(topic='orderitems', partition=0, offset=1823, timestamp=1726067158007, timestamp_type=0, key=None, value='{\"OrderItemID\": \"4962073b-a0f9-486a-b236-3b7ea221c908\", \"OrderID\": \"ff0a837a-3e0f-4488-9c88-c320a7b0a957\", \"ItemID\": 11, \"ItemName\": \"Ice Tea\", \"Quantity\": 2, \"UnitPrice\": 50, \"TotalPrice\": 100}', headers=[], checksum=None, serialized_key_size=-1, serialized_value_size=216, serialized_header_size=-1), ConsumerRecord(topic='orderitems', partition=0, offset=1824, timestamp=1726067162445, timestamp_type=0, key=None, value='{\"OrderItemID\": \"1aff2f25-96be-4d62-952d-a285543e882c\", \"OrderID\": \"57446b2d-ddb3-48ee-af8b-6cbeb759f3ec\", \"ItemID\": 2, \"ItemName\": \"Cheese Burger\", \"Quantity\": 1, \"UnitPrice\": 55, \"TotalPrice\": 55}', headers=[], checksum=None, serialized_key_size=-1, serialized_value_size=220, serialized_header_size=-1), ConsumerRecord(topic='orderitems', partition=0, offset=1825, timestamp=1726067162780, timestamp_type=0, key=None, value='{\"OrderItemID\": \"051266c2-d444-4d7f-995a-f0cfd16a2182\", \"OrderID\": \"fc408b2b-133a-4a82-91e1-cdaaa0766bc3\", \"ItemID\": 10, \"ItemName\": \"Sprite\", \"Quantity\": 2, \"UnitPrice\": 60, \"TotalPrice\": 120}', headers=[], checksum=None, serialized_key_size=-1, serialized_value_size=215, serialized_header_size=-1), ConsumerRecord(topic='orderitems', partition=0, offset=1826, timestamp=1726067163014, timestamp_type=0, key=None, value='{\"OrderItemID\": \"46685cdd-75f9-4f41-90a1-5299054efa50\", \"OrderID\": \"ff0a837a-3e0f-4488-9c88-c320a7b0a957\", \"ItemID\": 9, \"ItemName\": \"Coke\", \"Quantity\": 1, \"UnitPrice\": 60, \"TotalPrice\": 60}', headers=[], checksum=None, serialized_key_size=-1, serialized_value_size=211, serialized_header_size=-1)]\n",
      "current_batch_size 0 Received message: [ConsumerRecord(topic='orderitems', partition=0, offset=1827, timestamp=1726067167452, timestamp_type=0, key=None, value='{\"OrderItemID\": \"ac527166-9224-4274-b247-6a228ea70cf1\", \"OrderID\": \"57446b2d-ddb3-48ee-af8b-6cbeb759f3ec\", \"ItemID\": 4, \"ItemName\": \"Paneer Burger\", \"Quantity\": 1, \"UnitPrice\": 70, \"TotalPrice\": 70}', headers=[], checksum=None, serialized_key_size=-1, serialized_value_size=220, serialized_header_size=-1)]\n",
      "current_batch_size 0 Received message: [ConsumerRecord(topic='orderitems', partition=0, offset=1828, timestamp=1726067167784, timestamp_type=0, key=None, value='{\"OrderItemID\": \"9d930454-e621-4ba4-9be0-1ab72c7db93f\", \"OrderID\": \"9f51a24a-d4c0-4dad-b2e7-4f09cef22861\", \"ItemID\": 2, \"ItemName\": \"Cheese Burger\", \"Quantity\": 3, \"UnitPrice\": 55, \"TotalPrice\": 165}', headers=[], checksum=None, serialized_key_size=-1, serialized_value_size=221, serialized_header_size=-1)]\n",
      "current_batch_size 0 Received message: [ConsumerRecord(topic='orderitems', partition=0, offset=1829, timestamp=1726067168016, timestamp_type=0, key=None, value='{\"OrderItemID\": \"36bc6268-61af-473d-b106-892ba1fa46f3\", \"OrderID\": \"ff0a837a-3e0f-4488-9c88-c320a7b0a957\", \"ItemID\": 14, \"ItemName\": \"Latte\", \"Quantity\": 2, \"UnitPrice\": 55, \"TotalPrice\": 110}', headers=[], checksum=None, serialized_key_size=-1, serialized_value_size=214, serialized_header_size=-1)]\n",
      "current_batch_size 0 Received message: [ConsumerRecord(topic='orderitems', partition=0, offset=1830, timestamp=1726067172458, timestamp_type=0, key=None, value='{\"OrderItemID\": \"bfad2f17-4f64-4b90-84a0-e78404aec0bd\", \"OrderID\": \"ee2f75b1-efda-4982-8148-a3cfaaf35967\", \"ItemID\": 10, \"ItemName\": \"Sprite\", \"Quantity\": 2, \"UnitPrice\": 60, \"TotalPrice\": 120}', headers=[], checksum=None, serialized_key_size=-1, serialized_value_size=215, serialized_header_size=-1)]\n",
      "current_batch_size 0 Received message: [ConsumerRecord(topic='orderitems', partition=0, offset=1831, timestamp=1726067172786, timestamp_type=0, key=None, value='{\"OrderItemID\": \"7dba43cf-43b1-4aaf-b1d1-958c4b69ba53\", \"OrderID\": \"9f51a24a-d4c0-4dad-b2e7-4f09cef22861\", \"ItemID\": 1, \"ItemName\": \"Burger\", \"Quantity\": 3, \"UnitPrice\": 50, \"TotalPrice\": 150}', headers=[], checksum=None, serialized_key_size=-1, serialized_value_size=214, serialized_header_size=-1)]\n",
      "current_batch_size 0 Received message: [ConsumerRecord(topic='orderitems', partition=0, offset=1832, timestamp=1726067173018, timestamp_type=0, key=None, value='{\"OrderItemID\": \"00ac317a-dd82-4b3e-a868-5bdd02c81d11\", \"OrderID\": \"73f19747-e9a2-4f3c-b9ab-e19f2911cf30\", \"ItemID\": 14, \"ItemName\": \"Latte\", \"Quantity\": 3, \"UnitPrice\": 55, \"TotalPrice\": 165}', headers=[], checksum=None, serialized_key_size=-1, serialized_value_size=214, serialized_header_size=-1)]\n",
      "current_batch_size 0 Received message: [ConsumerRecord(topic='orderitems', partition=0, offset=1833, timestamp=1726067177460, timestamp_type=0, key=None, value='{\"OrderItemID\": \"aa7b6d64-844e-46df-9c34-198a766c7fca\", \"OrderID\": \"ee2f75b1-efda-4982-8148-a3cfaaf35967\", \"ItemID\": 11, \"ItemName\": \"Ice Tea\", \"Quantity\": 1, \"UnitPrice\": 50, \"TotalPrice\": 50}', headers=[], checksum=None, serialized_key_size=-1, serialized_value_size=215, serialized_header_size=-1)]\n",
      "current_batch_size 0 Received message: [ConsumerRecord(topic='orderitems', partition=0, offset=1834, timestamp=1726067177790, timestamp_type=0, key=None, value='{\"OrderItemID\": \"3e7498a7-2863-44df-b20c-0d000077c6f0\", \"OrderID\": \"9f51a24a-d4c0-4dad-b2e7-4f09cef22861\", \"ItemID\": 6, \"ItemName\": \"Fish Burger\", \"Quantity\": 2, \"UnitPrice\": 80, \"TotalPrice\": 160}', headers=[], checksum=None, serialized_key_size=-1, serialized_value_size=219, serialized_header_size=-1)]\n",
      "current_batch_size 0 Received message: [ConsumerRecord(topic='orderitems', partition=0, offset=1835, timestamp=1726067178021, timestamp_type=0, key=None, value='{\"OrderItemID\": \"ae055b94-fdcb-4a6e-9265-da012aad0659\", \"OrderID\": \"73f19747-e9a2-4f3c-b9ab-e19f2911cf30\", \"ItemID\": 3, \"ItemName\": \"Mushroom Burger\", \"Quantity\": 1, \"UnitPrice\": 60, \"TotalPrice\": 60}', headers=[], checksum=None, serialized_key_size=-1, serialized_value_size=222, serialized_header_size=-1)]\n"
     ]
    },
    {
     "name": "stderr",
     "output_type": "stream",
     "text": [
      "Exception in thread Thread-6:\n",
      "Traceback (most recent call last):\n",
      "  File \"c:\\Users\\Yash\\anaconda3\\lib\\threading.py\", line 932, in _bootstrap_inner\n",
      "    self.run()\n",
      "  File \"c:\\Users\\Yash\\anaconda3\\lib\\threading.py\", line 870, in run\n",
      "    self._target(*self._args, **self._kwargs)\n",
      "  File \"c:\\Users\\Yash\\Learning\\TheBurgerHouse\\kafkaconsumer.py\", line 63, in consume_and_upload\n",
      "    file_client.append_data(records, offset=filesize_previous, length=len(records))\n",
      "  File \"c:\\Users\\Yash\\anaconda3\\lib\\site-packages\\azure\\core\\tracing\\decorator.py\", line 78, in wrapper_use_tracer\n",
      "    return func(*args, **kwargs)\n",
      "  File \"c:\\Users\\Yash\\anaconda3\\lib\\site-packages\\azure\\storage\\filedatalake\\_data_lake_file_client.py\", line 581, in append_data\n",
      "    process_storage_error(error)\n",
      "  File \"c:\\Users\\Yash\\anaconda3\\lib\\site-packages\\azure\\storage\\filedatalake\\_deserialize.py\", line 221, in process_storage_error\n",
      "    exec(\"raise error from None\")   # pylint: disable=exec-used # nosec\n",
      "  File \"<string>\", line 1, in <module>\n",
      "azure.core.exceptions.HttpResponseError: (InvalidHeaderValue) The value for one of the HTTP headers is not in the correct format.\n",
      "RequestId:4d7610d1-a01f-004c-655c-04de98000000\n",
      "Time:2024-09-11T15:06:21.7112705Z\n",
      "Code: InvalidHeaderValue\n",
      "Message: The value for one of the HTTP headers is not in the correct format.\n",
      "RequestId:4d7610d1-a01f-004c-655c-04de98000000\n",
      "Time:2024-09-11T15:06:21.7112705Z\n"
     ]
    },
    {
     "name": "stdout",
     "output_type": "stream",
     "text": [
      "current_batch_size 0 Received message: [ConsumerRecord(topic='orderitems', partition=0, offset=1836, timestamp=1726067182469, timestamp_type=0, key=None, value='{\"OrderItemID\": \"bda2d21f-7fe8-4e46-851c-d1e8e8294364\", \"OrderID\": \"ee2f75b1-efda-4982-8148-a3cfaaf35967\", \"ItemID\": 11, \"ItemName\": \"Ice Tea\", \"Quantity\": 2, \"UnitPrice\": 50, \"TotalPrice\": 100}', headers=[], checksum=None, serialized_key_size=-1, serialized_value_size=216, serialized_header_size=-1)]\n",
      "current_batch_size 0 Received message: [ConsumerRecord(topic='orderitems', partition=0, offset=1837, timestamp=1726067182797, timestamp_type=0, key=None, value='{\"OrderItemID\": \"6149ef27-0c33-4eda-a40c-0ab3dfc753aa\", \"OrderID\": \"1d0f64d2-3bba-405b-b77b-f1ce58fb4205\", \"ItemID\": 12, \"ItemName\": \"Coffee\", \"Quantity\": 1, \"UnitPrice\": 50, \"TotalPrice\": 50}', headers=[], checksum=None, serialized_key_size=-1, serialized_value_size=214, serialized_header_size=-1)]\n",
      "current_batch_size 0 Received message: [ConsumerRecord(topic='orderitems', partition=0, offset=1838, timestamp=1726067183027, timestamp_type=0, key=None, value='{\"OrderItemID\": \"39745c90-aaf5-4c09-8de6-8b59c4841813\", \"OrderID\": \"5eabd8f7-1782-44e8-8cb7-71b1e922ba0a\", \"ItemID\": 6, \"ItemName\": \"Fish Burger\", \"Quantity\": 1, \"UnitPrice\": 80, \"TotalPrice\": 80}', headers=[], checksum=None, serialized_key_size=-1, serialized_value_size=218, serialized_header_size=-1)]\n",
      "current_batch_size 0 Received message: [ConsumerRecord(topic='orderitems', partition=0, offset=1839, timestamp=1726067187473, timestamp_type=0, key=None, value='{\"OrderItemID\": \"e8f300a8-db76-4752-863b-76af3c8c7cf6\", \"OrderID\": \"ee2f75b1-efda-4982-8148-a3cfaaf35967\", \"ItemID\": 7, \"ItemName\": \"Fries\", \"Quantity\": 1, \"UnitPrice\": 45, \"TotalPrice\": 45}', headers=[], checksum=None, serialized_key_size=-1, serialized_value_size=212, serialized_header_size=-1)]\n",
      "current_batch_size 0 Received message: [ConsumerRecord(topic='orderitems', partition=0, offset=1840, timestamp=1726067187810, timestamp_type=0, key=None, value='{\"OrderItemID\": \"a585cd11-60fc-45da-8ac3-85bb71f7088d\", \"OrderID\": \"1d0f64d2-3bba-405b-b77b-f1ce58fb4205\", \"ItemID\": 13, \"ItemName\": \"Mocha\", \"Quantity\": 2, \"UnitPrice\": 55, \"TotalPrice\": 110}', headers=[], checksum=None, serialized_key_size=-1, serialized_value_size=214, serialized_header_size=-1)]\n",
      "current_batch_size 0 Received message: [ConsumerRecord(topic='orderitems', partition=0, offset=1841, timestamp=1726067188041, timestamp_type=0, key=None, value='{\"OrderItemID\": \"5fe1ea9c-ca70-4692-90d8-416a4fe569dd\", \"OrderID\": \"415fd4f3-7f13-4c0d-b9e6-5a53dd59195f\", \"ItemID\": 4, \"ItemName\": \"Paneer Burger\", \"Quantity\": 3, \"UnitPrice\": 70, \"TotalPrice\": 210}', headers=[], checksum=None, serialized_key_size=-1, serialized_value_size=221, serialized_header_size=-1)]\n",
      "current_batch_size 0 Received message: [ConsumerRecord(topic='orderitems', partition=0, offset=1842, timestamp=1726067192489, timestamp_type=0, key=None, value='{\"OrderItemID\": \"be8809a6-f1e9-42dd-b367-d0f2439c6004\", \"OrderID\": \"ebfc2aa5-c8c7-4955-8d27-653e83c39b81\", \"ItemID\": 10, \"ItemName\": \"Sprite\", \"Quantity\": 3, \"UnitPrice\": 60, \"TotalPrice\": 180}', headers=[], checksum=None, serialized_key_size=-1, serialized_value_size=215, serialized_header_size=-1)]\n",
      "current_batch_size 0 Received message: [ConsumerRecord(topic='orderitems', partition=0, offset=1843, timestamp=1726067192823, timestamp_type=0, key=None, value='{\"OrderItemID\": \"09650fe0-d5df-4c49-9942-69b4dd60375a\", \"OrderID\": \"1d0f64d2-3bba-405b-b77b-f1ce58fb4205\", \"ItemID\": 4, \"ItemName\": \"Paneer Burger\", \"Quantity\": 1, \"UnitPrice\": 70, \"TotalPrice\": 70}', headers=[], checksum=None, serialized_key_size=-1, serialized_value_size=220, serialized_header_size=-1)]\n",
      "current_batch_size 0 Received message: [ConsumerRecord(topic='orderitems', partition=0, offset=1844, timestamp=1726067193049, timestamp_type=0, key=None, value='{\"OrderItemID\": \"b2db458c-c4fc-4cd0-a78d-1e08fc4358e5\", \"OrderID\": \"5041b3d0-8950-4262-a797-765abc854e3f\", \"ItemID\": 6, \"ItemName\": \"Fish Burger\", \"Quantity\": 1, \"UnitPrice\": 80, \"TotalPrice\": 80}', headers=[], checksum=None, serialized_key_size=-1, serialized_value_size=218, serialized_header_size=-1)]\n",
      "current_batch_size 0 Received message: [ConsumerRecord(topic='orderitems', partition=0, offset=1845, timestamp=1726067197493, timestamp_type=0, key=None, value='{\"OrderItemID\": \"e85c7c1b-7265-4014-9a79-45cf66c10396\", \"OrderID\": \"ebfc2aa5-c8c7-4955-8d27-653e83c39b81\", \"ItemID\": 9, \"ItemName\": \"Coke\", \"Quantity\": 3, \"UnitPrice\": 60, \"TotalPrice\": 180}', headers=[], checksum=None, serialized_key_size=-1, serialized_value_size=212, serialized_header_size=-1)]\n",
      "current_batch_size 0 Received message: [ConsumerRecord(topic='orderitems', partition=0, offset=1846, timestamp=1726067197829, timestamp_type=0, key=None, value='{\"OrderItemID\": \"3652e007-4002-4669-b7a2-b187758eff25\", \"OrderID\": \"033f692f-ad9d-41e7-8685-e760530d9dac\", \"ItemID\": 13, \"ItemName\": \"Mocha\", \"Quantity\": 3, \"UnitPrice\": 55, \"TotalPrice\": 165}', headers=[], checksum=None, serialized_key_size=-1, serialized_value_size=214, serialized_header_size=-1)]\n",
      "current_batch_size 0 Received message: [ConsumerRecord(topic='orderitems', partition=0, offset=1847, timestamp=1726067198055, timestamp_type=0, key=None, value='{\"OrderItemID\": \"9de1a139-ed01-4648-bcc5-97637f449ece\", \"OrderID\": \"5041b3d0-8950-4262-a797-765abc854e3f\", \"ItemID\": 7, \"ItemName\": \"Fries\", \"Quantity\": 3, \"UnitPrice\": 45, \"TotalPrice\": 135}', headers=[], checksum=None, serialized_key_size=-1, serialized_value_size=213, serialized_header_size=-1)]\n",
      "current_batch_size 0 Received message: [ConsumerRecord(topic='orderitems', partition=0, offset=1848, timestamp=1726067202502, timestamp_type=0, key=None, value='{\"OrderItemID\": \"03d03575-54bb-48bd-8e8b-1b517a0cd3b5\", \"OrderID\": \"ebfc2aa5-c8c7-4955-8d27-653e83c39b81\", \"ItemID\": 6, \"ItemName\": \"Fish Burger\", \"Quantity\": 1, \"UnitPrice\": 80, \"TotalPrice\": 80}', headers=[], checksum=None, serialized_key_size=-1, serialized_value_size=218, serialized_header_size=-1)]\n",
      "current_batch_size 0 Received message: [ConsumerRecord(topic='orderitems', partition=0, offset=1849, timestamp=1726067202833, timestamp_type=0, key=None, value='{\"OrderItemID\": \"1a4a17e1-7718-4b11-ad13-0744b253a635\", \"OrderID\": \"033f692f-ad9d-41e7-8685-e760530d9dac\", \"ItemID\": 2, \"ItemName\": \"Cheese Burger\", \"Quantity\": 2, \"UnitPrice\": 55, \"TotalPrice\": 110}', headers=[], checksum=None, serialized_key_size=-1, serialized_value_size=221, serialized_header_size=-1)]\n",
      "current_batch_size 0 Received message: [ConsumerRecord(topic='orderitems', partition=0, offset=1850, timestamp=1726067207519, timestamp_type=0, key=None, value='{\"OrderItemID\": \"c69a3ac2-9383-4ed6-9bcf-f686c2324d72\", \"OrderID\": \"ebfc2aa5-c8c7-4955-8d27-653e83c39b81\", \"ItemID\": 4, \"ItemName\": \"Paneer Burger\", \"Quantity\": 1, \"UnitPrice\": 70, \"TotalPrice\": 70}', headers=[], checksum=None, serialized_key_size=-1, serialized_value_size=220, serialized_header_size=-1)]\n",
      "current_batch_size 0 Received message: [ConsumerRecord(topic='orderitems', partition=0, offset=1851, timestamp=1726067207835, timestamp_type=0, key=None, value='{\"OrderItemID\": \"667664ce-bcea-40e0-8497-449db20fe04d\", \"OrderID\": \"033f692f-ad9d-41e7-8685-e760530d9dac\", \"ItemID\": 10, \"ItemName\": \"Sprite\", \"Quantity\": 3, \"UnitPrice\": 60, \"TotalPrice\": 180}', headers=[], checksum=None, serialized_key_size=-1, serialized_value_size=215, serialized_header_size=-1)]\n",
      "current_batch_size 0 Received message: [ConsumerRecord(topic='orderitems', partition=0, offset=1852, timestamp=1726067212524, timestamp_type=0, key=None, value='{\"OrderItemID\": \"c6400708-99d8-4fa6-b0f4-c87c9a7e5755\", \"OrderID\": \"ebfc2aa5-c8c7-4955-8d27-653e83c39b81\", \"ItemID\": 10, \"ItemName\": \"Sprite\", \"Quantity\": 2, \"UnitPrice\": 60, \"TotalPrice\": 120}', headers=[], checksum=None, serialized_key_size=-1, serialized_value_size=215, serialized_header_size=-1)]\n",
      "current_batch_size 0 Received message: [ConsumerRecord(topic='orderitems', partition=0, offset=1853, timestamp=1726067212838, timestamp_type=0, key=None, value='{\"OrderItemID\": \"1acd3824-43ab-4db8-8e45-aea58fdd2315\", \"OrderID\": \"033f692f-ad9d-41e7-8685-e760530d9dac\", \"ItemID\": 10, \"ItemName\": \"Sprite\", \"Quantity\": 1, \"UnitPrice\": 60, \"TotalPrice\": 60}', headers=[], checksum=None, serialized_key_size=-1, serialized_value_size=214, serialized_header_size=-1)]\n"
     ]
    },
    {
     "name": "stderr",
     "output_type": "stream",
     "text": [
      "Exception in thread Thread-7:\n",
      "Traceback (most recent call last):\n",
      "  File \"c:\\Users\\Yash\\anaconda3\\lib\\threading.py\", line 932, in _bootstrap_inner\n",
      "    self.run()\n",
      "  File \"c:\\Users\\Yash\\anaconda3\\lib\\threading.py\", line 870, in run\n",
      "    self._target(*self._args, **self._kwargs)\n",
      "  File \"c:\\Users\\Yash\\Learning\\TheBurgerHouse\\kafkaconsumer.py\", line 63, in consume_and_upload\n",
      "    file_client.append_data(records, offset=filesize_previous, length=len(records))\n",
      "  File \"c:\\Users\\Yash\\anaconda3\\lib\\site-packages\\azure\\core\\tracing\\decorator.py\", line 78, in wrapper_use_tracer\n",
      "    return func(*args, **kwargs)\n",
      "  File \"c:\\Users\\Yash\\anaconda3\\lib\\site-packages\\azure\\storage\\filedatalake\\_data_lake_file_client.py\", line 581, in append_data\n",
      "    process_storage_error(error)\n",
      "  File \"c:\\Users\\Yash\\anaconda3\\lib\\site-packages\\azure\\storage\\filedatalake\\_deserialize.py\", line 221, in process_storage_error\n",
      "    exec(\"raise error from None\")   # pylint: disable=exec-used # nosec\n",
      "  File \"<string>\", line 1, in <module>\n",
      "azure.core.exceptions.HttpResponseError: (InvalidHeaderValue) The value for one of the HTTP headers is not in the correct format.\n",
      "RequestId:4688653d-401f-0044-245c-04c497000000\n",
      "Time:2024-09-11T15:07:07.7283911Z\n",
      "Code: InvalidHeaderValue\n",
      "Message: The value for one of the HTTP headers is not in the correct format.\n",
      "RequestId:4688653d-401f-0044-245c-04c497000000\n",
      "Time:2024-09-11T15:07:07.7283911Z\n"
     ]
    },
    {
     "name": "stdout",
     "output_type": "stream",
     "text": [
      "\n",
      "Keyboard interruption detected. Stopping all threads...\n",
      "All threads have been stopped.\n"
     ]
    }
   ],
   "source": [
    "if __name__ == \"__main__\":\n",
    "    \n",
    "    params = get_env_params()\n",
    "\n",
    "    topics = params['topics'].split('|')\n",
    "\n",
    "\n",
    "    kafkaconsumers = []\n",
    "    for iter,topic in enumerate(topics):\n",
    "        #Create objects of kafka consumer\n",
    "        kafkaconsumers.append(Kafka_Consumer(topic,[params['bootstrapservers']],str(iter)))\n",
    "  \n",
    "    threads = []\n",
    "    for consumer in kafkaconsumers:\n",
    "        # Create threads for each consumer function\n",
    "        thread = threading.Thread(target=consumer.consume_and_upload\n",
    "                               ,args=(params['adls_account_name'], params['adls_sas_token']\n",
    "                                      ,int(params['kafkabatchsize']),params['adls_container']))\n",
    "        threads.append(thread)\n",
    "        thread.start()\n",
    "\n",
    "    try:\n",
    "        while not stop_flag:\n",
    "            time.sleep(0.1)  # Main thread does something here, could be anything\n",
    "    except KeyboardInterrupt:\n",
    "        print(\"\\nKeyboard interruption detected. Stopping all threads...\")\n",
    "        stop_flag = True  # Set the flag to stop threads\n",
    "\n",
    "    finally:\n",
    "        # Wait for all threads to complete\n",
    "\n",
    "        for consumer in kafkaconsumers:\n",
    "            consumer.close()\n",
    "        \n",
    "        for thread in threads:\n",
    "            thread.join()\n",
    "        print(\"All threads have been stopped.\")"
   ]
  },
  {
   "cell_type": "code",
   "execution_count": null,
   "metadata": {},
   "outputs": [],
   "source": []
  }
 ],
 "metadata": {
  "kernelspec": {
   "display_name": "Python 3",
   "language": "python",
   "name": "python3"
  },
  "language_info": {
   "codemirror_mode": {
    "name": "ipython",
    "version": 3
   },
   "file_extension": ".py",
   "mimetype": "text/x-python",
   "name": "python",
   "nbconvert_exporter": "python",
   "pygments_lexer": "ipython3",
   "version": "3.8.3"
  }
 },
 "nbformat": 4,
 "nbformat_minor": 4
}
