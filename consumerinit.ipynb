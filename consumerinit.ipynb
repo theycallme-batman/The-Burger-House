{
 "cells": [
  {
   "cell_type": "code",
   "execution_count": 1,
   "metadata": {},
   "outputs": [],
   "source": [
    "import pandas as pd\n",
    "import time\n",
    "import threading\n",
    "from kafkaconsumer import Kafka_Consumer"
   ]
  },
  {
   "cell_type": "code",
   "execution_count": null,
   "metadata": {},
   "outputs": [],
   "source": [
    "def get_env_params():\n",
    "    return pd.read_csv('./env_params/env_params.csv',index_col=0, header=None).squeeze().to_dict()"
   ]
  },
  {
   "cell_type": "code",
   "execution_count": 2,
   "metadata": {},
   "outputs": [],
   "source": [
    "if __name__ == \"__main__\":\n",
    "    \n",
    "    params = get_env_params()\n",
    "\n",
    "    #object1 \n",
    "    kafkaconsumer1 = Kafka_Consumer(params['consumer_topic1'],[params['bootstrapservers']])\n",
    "    kafkaconsumer2 = Kafka_Consumer(params['consumer_topic2'],[params['bootstrapservers']])\n",
    "\n",
    "    \n",
    "    \n",
    "    # Create threads for each function\n",
    "    thread1 = threading.Thread(target=kafkaconsumer1.consume_and_upload\n",
    "                               ,args=(params['adls_account_name'], params['adls_sas_token']\n",
    "                                      ,int(params['kafkabatchsize']),params['adls_container']))\n",
    "    thread2 = threading.Thread(target=kafkaconsumer2.consume_and_upload,args=(params['adls_account_name'], params['adls_sas_token']\n",
    "                                      ,int(params['kafkabatchsize']),params['adls_container']))\n",
    "    \n",
    "\n",
    "    # Start the threads\n",
    "    thread1.start()\n",
    "    thread2.start()\n",
    "\n",
    "    # Wait for both threads to complete\n",
    "    thread1.join()\n",
    "    thread2.join()"
   ]
  }
 ],
 "metadata": {
  "kernelspec": {
   "display_name": "Python 3",
   "language": "python",
   "name": "python3"
  },
  "language_info": {
   "codemirror_mode": {
    "name": "ipython",
    "version": 3
   },
   "file_extension": ".py",
   "mimetype": "text/x-python",
   "name": "python",
   "nbconvert_exporter": "python",
   "pygments_lexer": "ipython3",
   "version": "3.8.3"
  }
 },
 "nbformat": 4,
 "nbformat_minor": 4
}
