{
 "cells": [
  {
   "cell_type": "code",
   "execution_count": 1,
   "metadata": {},
   "outputs": [],
   "source": [
    "import pandas as pd\n",
    "import time\n",
    "import threading\n",
    "from kafkaconsumer import Kafka_Consumer"
   ]
  },
  {
   "cell_type": "code",
   "execution_count": 2,
   "metadata": {},
   "outputs": [],
   "source": [
    "stop_flag = False"
   ]
  },
  {
   "cell_type": "code",
   "execution_count": 3,
   "metadata": {},
   "outputs": [],
   "source": [
    "def get_env_params():\n",
    "    return pd.read_csv('./env_params/env_params.csv',index_col=0, header=None).squeeze().to_dict()"
   ]
  },
  {
   "cell_type": "code",
   "execution_count": 4,
   "metadata": {},
   "outputs": [
    {
     "name": "stdout",
     "output_type": "stream",
     "text": [
      "current_batch_size 0 Received message: [ConsumerRecord(topic='orders', partition=0, offset=702, timestamp=1726068348690, timestamp_type=0, key=None, value='{\"OrderID\": \"e443df78-9558-467f-9ba9-1faf7a024204\", \"OrderDate\": \"2024-09-11 20:47:30\", \"StoreID\": 21, \"GlobalID\": \"Ind-21\", \"Country\": \"India\", \"PaymentMethod\": \"Cash\", \"TotalAmount\": 825}', headers=[], checksum=None, serialized_key_size=-1, serialized_value_size=215, serialized_header_size=-1), ConsumerRecord(topic='orders', partition=0, offset=703, timestamp=1726068369676, timestamp_type=0, key=None, value='{\"OrderID\": \"148b2758-d7ab-4928-89e4-69e6ec62b2c8\", \"OrderDate\": \"2024-09-11 20:52:30\", \"StoreID\": 17, \"GlobalID\": \"UK-17\", \"Country\": \"UK\", \"PaymentMethod\": \"Credit Card\", \"TotalAmount\": 535}', headers=[], checksum=None, serialized_key_size=-1, serialized_value_size=218, serialized_header_size=-1)]\n"
     ]
    },
    {
     "name": "stderr",
     "output_type": "stream",
     "text": [
      "Exception in thread Thread-7:\n",
      "Traceback (most recent call last):\n",
      "  File \"c:\\Users\\Yash\\anaconda3\\lib\\threading.py\", line 932, in _bootstrap_inner\n",
      "    self.run()\n",
      "  File \"c:\\Users\\Yash\\anaconda3\\lib\\threading.py\", line 870, in run\n",
      "    self._target(*self._args, **self._kwargs)\n",
      "  File \"c:\\Users\\Yash\\Learning\\TheBurgerHouse\\kafkaconsumer.py\", line 61, in consume_and_upload\n",
      "    file_client.append_data(records, offset=filesize_previous, length=len(records))\n",
      "  File \"c:\\Users\\Yash\\anaconda3\\lib\\site-packages\\azure\\core\\tracing\\decorator.py\", line 78, in wrapper_use_tracer\n",
      "    return func(*args, **kwargs)\n",
      "  File \"c:\\Users\\Yash\\anaconda3\\lib\\site-packages\\azure\\storage\\filedatalake\\_data_lake_file_client.py\", line 581, in append_data\n",
      "    process_storage_error(error)\n",
      "  File \"c:\\Users\\Yash\\anaconda3\\lib\\site-packages\\azure\\storage\\filedatalake\\_deserialize.py\", line 221, in process_storage_error\n",
      "    exec(\"raise error from None\")   # pylint: disable=exec-used # nosec\n",
      "  File \"<string>\", line 1, in <module>\n",
      "azure.core.exceptions.HttpResponseError: (InvalidHeaderValue) The value for one of the HTTP headers is not in the correct format.\n",
      "RequestId:539c3d3c-101f-002b-795e-04ce64000000\n",
      "Time:2024-09-11T15:26:26.7439127Z\n",
      "Code: InvalidHeaderValue\n",
      "Message: The value for one of the HTTP headers is not in the correct format.\n",
      "RequestId:539c3d3c-101f-002b-795e-04ce64000000\n",
      "Time:2024-09-11T15:26:26.7439127Z\n",
      "Exception in thread Thread-6:\n",
      "Traceback (most recent call last):\n",
      "  File \"c:\\Users\\Yash\\anaconda3\\lib\\threading.py\", line 932, in _bootstrap_inner\n",
      "    self.run()\n",
      "  File \"c:\\Users\\Yash\\anaconda3\\lib\\threading.py\", line 870, in run\n",
      "    self._target(*self._args, **self._kwargs)\n",
      "  File \"c:\\Users\\Yash\\Learning\\TheBurgerHouse\\kafkaconsumer.py\", line 61, in consume_and_upload\n",
      "    file_client.append_data(records, offset=filesize_previous, length=len(records))\n",
      "  File \"c:\\Users\\Yash\\anaconda3\\lib\\site-packages\\azure\\core\\tracing\\decorator.py\", line 78, in wrapper_use_tracer\n",
      "    return func(*args, **kwargs)\n",
      "  File \"c:\\Users\\Yash\\anaconda3\\lib\\site-packages\\azure\\storage\\filedatalake\\_data_lake_file_client.py\", line 581, in append_data\n",
      "    process_storage_error(error)\n",
      "  File \"c:\\Users\\Yash\\anaconda3\\lib\\site-packages\\azure\\storage\\filedatalake\\_deserialize.py\", line 221, in process_storage_error\n",
      "    exec(\"raise error from None\")   # pylint: disable=exec-used # nosec\n",
      "  File \"<string>\", line 1, in <module>\n",
      "azure.core.exceptions.HttpResponseError: (InvalidHeaderValue) The value for one of the HTTP headers is not in the correct format.\n",
      "RequestId:ff32b36e-e01f-003f-1a5e-04860b000000\n",
      "Time:2024-09-11T15:26:27.4593811Z\n",
      "Code: InvalidHeaderValue\n",
      "Message: The value for one of the HTTP headers is not in the correct format.\n",
      "RequestId:ff32b36e-e01f-003f-1a5e-04860b000000\n",
      "Time:2024-09-11T15:26:27.4593811Z\n"
     ]
    },
    {
     "name": "stdout",
     "output_type": "stream",
     "text": [
      "\n",
      "Keyboard interruption detected. Stopping all threads...\n",
      "All threads have been stopped.\n"
     ]
    }
   ],
   "source": [
    "if __name__ == \"__main__\":\n",
    "    \n",
    "    params = get_env_params()\n",
    "\n",
    "    topics = params['topics'].split('|')\n",
    "\n",
    "\n",
    "    kafkaconsumers = []\n",
    "    for iter,topic in enumerate(topics):\n",
    "        #Create objects of kafka consumer\n",
    "        kafkaconsumers.append(Kafka_Consumer(topic,[params['bootstrapservers']],str(iter)))\n",
    "  \n",
    "    threads = []\n",
    "    for consumer in kafkaconsumers:\n",
    "        # Create threads for each consumer function\n",
    "        thread = threading.Thread(target=consumer.consume_and_upload\n",
    "                               ,args=(params['adls_account_name'], params['adls_sas_token']\n",
    "                                      ,int(params['kafkabatchsize']),params['adls_container']))\n",
    "        threads.append(thread)\n",
    "        thread.start()\n",
    "\n",
    "    try:\n",
    "        while not stop_flag:\n",
    "            time.sleep(0.1)  # Main thread does something here, could be anything\n",
    "    except KeyboardInterrupt:\n",
    "        print(\"\\nKeyboard interruption detected. Stopping all threads...\")\n",
    "        stop_flag = True  # Set the flag to stop threads\n",
    "\n",
    "    finally:\n",
    "        # Wait for all threads to complete\n",
    "\n",
    "        for consumer in kafkaconsumers:\n",
    "            consumer.consumer.close()\n",
    "        \n",
    "        for thread in threads:\n",
    "            thread.join()\n",
    "        print(\"All threads have been stopped.\")"
   ]
  },
  {
   "cell_type": "code",
   "execution_count": null,
   "metadata": {},
   "outputs": [],
   "source": []
  }
 ],
 "metadata": {
  "kernelspec": {
   "display_name": "Python 3",
   "language": "python",
   "name": "python3"
  },
  "language_info": {
   "codemirror_mode": {
    "name": "ipython",
    "version": 3
   },
   "file_extension": ".py",
   "mimetype": "text/x-python",
   "name": "python",
   "nbconvert_exporter": "python",
   "pygments_lexer": "ipython3",
   "version": "3.8.3"
  }
 },
 "nbformat": 4,
 "nbformat_minor": 4
}
