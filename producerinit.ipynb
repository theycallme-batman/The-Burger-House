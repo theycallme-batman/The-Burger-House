{
 "cells": [
  {
   "cell_type": "code",
   "execution_count": 2,
   "metadata": {},
   "outputs": [],
   "source": [
    "from kafkaproducer import Kafka_Producer\n",
    "import pandas as pd\n",
    "import threading\n",
    "import time"
   ]
  },
  {
   "cell_type": "code",
   "execution_count": null,
   "metadata": {},
   "outputs": [],
   "source": [
    "def get_env_params():\n",
    "    return pd.read_csv('./env_params/env_params.csv',index_col=0, header=None).squeeze().to_dict()"
   ]
  },
  {
   "cell_type": "code",
   "execution_count": 5,
   "metadata": {},
   "outputs": [],
   "source": [
    "if __name__ == \"__main__\":\n",
    "    \n",
    "    # Input parameters\n",
    "    country = input(\"Enter the country to generate orders for (e.g., USA, UK, India): \")\n",
    "    num_orders = int(input(\"Enter the number of fake orders to generate: \"))\n",
    "    \n",
    "    params = get_env_params()\n",
    "    \n",
    "    #Create object of kafka producer to start producing\n",
    "    obj_kafka = Kafka_Producer(country, num_orders)\n",
    "    obj_kafka.generateRecords()\n",
    "    obj_kafka.connect_as_producer([params['bootstrapservers']])\n",
    "    \n",
    "    # Create threads for each producer function\n",
    "    thread1 = threading.Thread(target=obj_kafka.send_records_orders)\n",
    "    thread2 = threading.Thread(target=obj_kafka.send_records_items)\n",
    "    \n",
    "\n",
    "    # Start the threads\n",
    "    thread1.start()\n",
    "    thread2.start()\n",
    "\n",
    "    # Wait for both threads to complete\n",
    "    thread1.join()\n",
    "    thread2.join()\n"
   ]
  }
 ],
 "metadata": {
  "kernelspec": {
   "display_name": "Python 3",
   "language": "python",
   "name": "python3"
  },
  "language_info": {
   "codemirror_mode": {
    "name": "ipython",
    "version": 3
   },
   "file_extension": ".py",
   "mimetype": "text/x-python",
   "name": "python",
   "nbconvert_exporter": "python",
   "pygments_lexer": "ipython3",
   "version": "3.8.3"
  }
 },
 "nbformat": 4,
 "nbformat_minor": 4
}
